{
  "nbformat": 4,
  "nbformat_minor": 0,
  "metadata": {
    "colab": {
      "name": "04_plotting_accuracy_loss_convnet.ipynb",
      "provenance": [],
      "include_colab_link": true
    },
    "kernelspec": {
      "name": "python3",
      "display_name": "Python 3"
    }
  },
  "cells": [
    {
      "cell_type": "markdown",
      "metadata": {
        "id": "view-in-github",
        "colab_type": "text"
      },
      "source": [
        "<a href=\"https://colab.research.google.com/github/ccarpenterg/LearningMXNet/blob/master/04_plotting_accuracy_loss_convnet.ipynb\" target=\"_parent\"><img src=\"https://colab.research.google.com/assets/colab-badge.svg\" alt=\"Open In Colab\"/></a>"
      ]
    },
    {
      "cell_type": "markdown",
      "metadata": {
        "id": "M9HHze9YpgyF",
        "colab_type": "text"
      },
      "source": [
        "## Plotting Loss and Accuracy with MXNet and Matplotlib"
      ]
    },
    {
      "cell_type": "code",
      "metadata": {
        "id": "qu-pVMdknj15",
        "colab_type": "code",
        "colab": {
          "base_uri": "https://localhost:8080/",
          "height": 85
        },
        "outputId": "b54be67e-a48f-4717-b0cc-1fa386ae441e"
      },
      "source": [
        "!nvcc --version"
      ],
      "execution_count": 6,
      "outputs": [
        {
          "output_type": "stream",
          "text": [
            "nvcc: NVIDIA (R) Cuda compiler driver\n",
            "Copyright (c) 2005-2018 NVIDIA Corporation\n",
            "Built on Sat_Aug_25_21:08:01_CDT_2018\n",
            "Cuda compilation tools, release 10.0, V10.0.130\n"
          ],
          "name": "stdout"
        }
      ]
    },
    {
      "cell_type": "code",
      "metadata": {
        "id": "L41z7xWFp8u0",
        "colab_type": "code",
        "colab": {}
      },
      "source": [
        "!pip install mxnet-cu100"
      ],
      "execution_count": 0,
      "outputs": []
    },
    {
      "cell_type": "code",
      "metadata": {
        "id": "vHXD7AnPqCYq",
        "colab_type": "code",
        "colab": {
          "base_uri": "https://localhost:8080/",
          "height": 34
        },
        "outputId": "ed8415c2-ff26-47d3-ffb4-35a5e8881efa"
      },
      "source": [
        "from __future__ import print_function\n",
        "\n",
        "import mxnet as mx\n",
        "from mxnet import nd, gluon, autograd\n",
        "from mxnet.gluon import nn\n",
        "\n",
        "print(mx.__version__)"
      ],
      "execution_count": 3,
      "outputs": [
        {
          "output_type": "stream",
          "text": [
            "1.5.1\n"
          ],
          "name": "stdout"
        }
      ]
    },
    {
      "cell_type": "code",
      "metadata": {
        "id": "I2vfoQAmrPaW",
        "colab_type": "code",
        "colab": {}
      },
      "source": [
        "def normalization(data):\n",
        "    return nd.moveaxis(data, 2, 0).astype('float32') / 255\n",
        "\n",
        "MNIST = gluon.data.vision.MNIST\n",
        "\n",
        "train_data = MNIST(\n",
        "    train=True\n",
        ").transform_first(\n",
        "    normalization\n",
        ")\n",
        "\n",
        "valid_data = MNIST(\n",
        "    train=False\n",
        ").transform_first(\n",
        "    normalization\n",
        ")"
      ],
      "execution_count": 0,
      "outputs": []
    },
    {
      "cell_type": "code",
      "metadata": {
        "id": "i_H32rfJrJne",
        "colab_type": "code",
        "colab": {}
      },
      "source": [
        "train_loader = gluon.data.DataLoader(train_data, shuffle=True, batch_size=64)\n",
        "valid_loader = gluon.data.DataLoader(valid_data, shuffle=False, batch_size=64)"
      ],
      "execution_count": 0,
      "outputs": []
    },
    {
      "cell_type": "code",
      "metadata": {
        "id": "LX0f9FWfwmy_",
        "colab_type": "code",
        "colab": {}
      },
      "source": [
        "convnet = nn.Sequential()\n",
        "\n",
        "convnet.add(\n",
        "    nn.Conv2D(channels=32, kernel_size=3, activation='relu'),\n",
        "    nn.MaxPool2D(pool_size=2),\n",
        "    nn.Conv2D(channels=64, kernel_size=3, activation='relu'),\n",
        "    nn.MaxPool2D(pool_size=2),\n",
        "    nn.Conv2D(channels=64, kernel_size=3, activation='relu'),\n",
        "    nn.Dense(64, activation='relu'),\n",
        "    nn.Dense(10)\n",
        ")"
      ],
      "execution_count": 0,
      "outputs": []
    },
    {
      "cell_type": "code",
      "metadata": {
        "id": "ICFYTokOymeh",
        "colab_type": "code",
        "colab": {}
      },
      "source": [
        "ctx = mx.gpu(0) if mx.context.num_gpus() > 0 else mx.cpu(0)\n",
        "convnet.initialize(mx.init.Xavier(), ctx=ctx)"
      ],
      "execution_count": 0,
      "outputs": []
    }
  ]
}