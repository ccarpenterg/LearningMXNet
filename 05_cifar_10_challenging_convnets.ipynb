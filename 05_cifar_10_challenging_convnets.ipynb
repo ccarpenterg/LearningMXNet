{
  "nbformat": 4,
  "nbformat_minor": 0,
  "metadata": {
    "colab": {
      "name": "05_cifar-10_challenging_convnets.ipynb",
      "provenance": [],
      "toc_visible": true,
      "include_colab_link": true
    },
    "kernelspec": {
      "name": "python3",
      "display_name": "Python 3"
    },
    "accelerator": "GPU"
  },
  "cells": [
    {
      "cell_type": "markdown",
      "metadata": {
        "id": "view-in-github",
        "colab_type": "text"
      },
      "source": [
        "<a href=\"https://colab.research.google.com/github/ccarpenterg/LearningMXNet/blob/master/05_cifar_10_challenging_convnets.ipynb\" target=\"_parent\"><img src=\"https://colab.research.google.com/assets/colab-badge.svg\" alt=\"Open In Colab\"/></a>"
      ]
    },
    {
      "cell_type": "markdown",
      "metadata": {
        "id": "9CiHfNKn5lZ1",
        "colab_type": "text"
      },
      "source": [
        "## CIFAR-10: A More Challenging Dataset for CNNs"
      ]
    },
    {
      "cell_type": "code",
      "metadata": {
        "id": "iOhNkk6Y5IUh",
        "colab_type": "code",
        "colab": {}
      },
      "source": [
        "!nvcc --version"
      ],
      "execution_count": 0,
      "outputs": []
    },
    {
      "cell_type": "code",
      "metadata": {
        "id": "LL1JxXlU6Q2Q",
        "colab_type": "code",
        "colab": {}
      },
      "source": [
        "!pip install mxnet-cu100"
      ],
      "execution_count": 0,
      "outputs": []
    },
    {
      "cell_type": "code",
      "metadata": {
        "id": "R4xeL-tF6VL3",
        "colab_type": "code",
        "outputId": "2f34a7bc-2d89-45ec-d000-3ff4b0a92d98",
        "colab": {
          "base_uri": "https://localhost:8080/",
          "height": 34
        }
      },
      "source": [
        "from __future__ import print_function\n",
        "\n",
        "import mxnet as mx\n",
        "from mxnet import nd, gluon, autograd\n",
        "from mxnet.gluon import nn\n",
        "\n",
        "from mxnet.gluon.data.vision import transforms\n",
        "\n",
        "import statistics\n",
        "\n",
        "mx.random.seed(37373)\n",
        "\n",
        "print(mx.__version__)"
      ],
      "execution_count": 40,
      "outputs": [
        {
          "output_type": "stream",
          "text": [
            "1.5.1\n"
          ],
          "name": "stdout"
        }
      ]
    },
    {
      "cell_type": "code",
      "metadata": {
        "id": "TyJJt7B76uT6",
        "colab_type": "code",
        "colab": {}
      },
      "source": [
        "transform = transforms.Compose([\n",
        "    transforms.ToTensor()\n",
        "])\n",
        "\n",
        "CIFAR = gluon.data.vision.CIFAR10\n",
        "\n",
        "train_data = CIFAR(train=True).transform_first(transform)\n",
        "valid_data = CIFAR(train=False).transform_first(transform)"
      ],
      "execution_count": 0,
      "outputs": []
    },
    {
      "cell_type": "code",
      "metadata": {
        "id": "PqRb03KjQQ-2",
        "colab_type": "code",
        "outputId": "cc5bc502-91c6-4869-d7f9-fcf9774340f1",
        "colab": {
          "base_uri": "https://localhost:8080/",
          "height": 51
        }
      },
      "source": [
        "train_loader = gluon.data.DataLoader(train_data, shuffle=True, batch_size=64)\n",
        "valid_loader = gluon.data.DataLoader(valid_data, shuffle=False, batch_size=64)\n",
        "\n",
        "\n",
        "dataiter = iter(train_loader)\n",
        "\n",
        "batch, labels = dataiter.__next__()\n",
        "\n",
        "print(batch.shape)\n",
        "print(labels.shape)"
      ],
      "execution_count": 42,
      "outputs": [
        {
          "output_type": "stream",
          "text": [
            "(64, 3, 32, 32)\n",
            "(64,)\n"
          ],
          "name": "stdout"
        }
      ]
    },
    {
      "cell_type": "code",
      "metadata": {
        "id": "9rpPxfl0ZZ9x",
        "colab_type": "code",
        "outputId": "20054650-02c8-4067-9119-ef86be5c85be",
        "colab": {
          "base_uri": "https://localhost:8080/",
          "height": 190
        }
      },
      "source": [
        "convnet = nn.Sequential()\n",
        "\n",
        "convnet.add(\n",
        "    nn.Conv2D(channels=32, kernel_size=3, activation='relu'),\n",
        "    nn.MaxPool2D(pool_size=2),\n",
        "    nn.Conv2D(channels=64, kernel_size=3, activation='relu'),\n",
        "    nn.MaxPool2D(pool_size=2),\n",
        "    nn.Conv2D(channels=64, kernel_size=3, activation='relu'),\n",
        "    nn.Dense(64, activation='relu'),\n",
        "    nn.Dense(10)\n",
        ")\n",
        "\n",
        "convnet"
      ],
      "execution_count": 43,
      "outputs": [
        {
          "output_type": "execute_result",
          "data": {
            "text/plain": [
              "Sequential(\n",
              "  (0): Conv2D(None -> 32, kernel_size=(3, 3), stride=(1, 1), Activation(relu))\n",
              "  (1): MaxPool2D(size=(2, 2), stride=(2, 2), padding=(0, 0), ceil_mode=False, global_pool=False, pool_type=max, layout=NCHW)\n",
              "  (2): Conv2D(None -> 64, kernel_size=(3, 3), stride=(1, 1), Activation(relu))\n",
              "  (3): MaxPool2D(size=(2, 2), stride=(2, 2), padding=(0, 0), ceil_mode=False, global_pool=False, pool_type=max, layout=NCHW)\n",
              "  (4): Conv2D(None -> 64, kernel_size=(3, 3), stride=(1, 1), Activation(relu))\n",
              "  (5): Dense(None -> 64, Activation(relu))\n",
              "  (6): Dense(None -> 10, linear)\n",
              ")"
            ]
          },
          "metadata": {
            "tags": []
          },
          "execution_count": 43
        }
      ]
    },
    {
      "cell_type": "code",
      "metadata": {
        "id": "Fo1CVVbjjyhk",
        "colab_type": "code",
        "outputId": "a704cb83-50dd-4bf1-be68-0a0fd81b6cec",
        "colab": {
          "base_uri": "https://localhost:8080/",
          "height": 476
        }
      },
      "source": [
        "ctx = mx.gpu(0) if mx.context.num_gpus() > 0 else mx.cpu(0)\n",
        "convnet.initialize(mx.init.Xavier(), ctx=ctx)\n",
        "convnet.summary(nd.zeros((64, 3, 32, 32), ctx=ctx))"
      ],
      "execution_count": 44,
      "outputs": [
        {
          "output_type": "stream",
          "text": [
            "--------------------------------------------------------------------------------\n",
            "        Layer (type)                                Output Shape         Param #\n",
            "================================================================================\n",
            "               Input                             (64, 3, 32, 32)               0\n",
            "        Activation-1                     <Symbol conv6_relu_fwd>               0\n",
            "        Activation-2                            (64, 32, 30, 30)               0\n",
            "            Conv2D-3                            (64, 32, 30, 30)             896\n",
            "         MaxPool2D-4                            (64, 32, 15, 15)               0\n",
            "        Activation-5                     <Symbol conv7_relu_fwd>               0\n",
            "        Activation-6                            (64, 64, 13, 13)               0\n",
            "            Conv2D-7                            (64, 64, 13, 13)           18496\n",
            "         MaxPool2D-8                              (64, 64, 6, 6)               0\n",
            "        Activation-9                     <Symbol conv8_relu_fwd>               0\n",
            "       Activation-10                              (64, 64, 4, 4)               0\n",
            "           Conv2D-11                              (64, 64, 4, 4)           36928\n",
            "       Activation-12                    <Symbol dense4_relu_fwd>               0\n",
            "       Activation-13                                    (64, 64)               0\n",
            "            Dense-14                                    (64, 64)           65600\n",
            "            Dense-15                                    (64, 10)             650\n",
            "================================================================================\n",
            "Parameters in forward computation graph, duplicate included\n",
            "   Total params: 122570\n",
            "   Trainable params: 122570\n",
            "   Non-trainable params: 0\n",
            "Shared params in forward computation graph: 0\n",
            "Unique parameters in model: 122570\n",
            "--------------------------------------------------------------------------------\n"
          ],
          "name": "stdout"
        }
      ]
    },
    {
      "cell_type": "code",
      "metadata": {
        "id": "rIPj11nHFR9B",
        "colab_type": "code",
        "colab": {}
      },
      "source": [
        "trainer = gluon.Trainer(\n",
        "    params=convnet.collect_params(),\n",
        "    optimizer='sgd',\n",
        "    optimizer_params={'learning_rate': 0.05, 'momentum': 0.5}\n",
        ")"
      ],
      "execution_count": 0,
      "outputs": []
    },
    {
      "cell_type": "code",
      "metadata": {
        "id": "NvnXcVzRFiO2",
        "colab_type": "code",
        "colab": {}
      },
      "source": [
        "def train(model, loss_function, optimizer):\n",
        "    \n",
        "    train_batch_losses = []\n",
        "    \n",
        "    for batch, labels in train_loader:\n",
        "        batch = batch.as_in_context(ctx)\n",
        "        labels = labels.as_in_context(ctx)\n",
        "        \n",
        "        with autograd.record():\n",
        "            output = model(batch)\n",
        "            loss = loss_function(output, labels)\n",
        "            \n",
        "        loss.backward()\n",
        "        \n",
        "        optimizer.step(batch_size=batch.shape[0])\n",
        "        \n",
        "        train_batch_losses.append(float(nd.sum(loss).asscalar()))\n",
        "        \n",
        "    mean_loss = statistics.mean(train_batch_losses)\n",
        "    \n",
        "    return mean_loss"
      ],
      "execution_count": 0,
      "outputs": []
    },
    {
      "cell_type": "code",
      "metadata": {
        "id": "J0Ln5kejINR6",
        "colab_type": "code",
        "colab": {}
      },
      "source": [
        "def validate(model, loss_function, optimizer):\n",
        "    \n",
        "    validation_batch_losses = []\n",
        "    \n",
        "    for batch, labels in valid_loader:\n",
        "        batch = batch.as_in_context(ctx)\n",
        "        labels = labels.as_in_context(ctx)\n",
        "        \n",
        "        output = model(batch)\n",
        "        \n",
        "        loss = loss_function(output, labels)\n",
        "        \n",
        "        validation_batch_losses.append(float(nd.sum(loss).asscalar()))\n",
        "        \n",
        "        mean_loss = statistics.mean(validation_batch_losses)\n",
        "        \n",
        "    return mean_loss"
      ],
      "execution_count": 0,
      "outputs": []
    },
    {
      "cell_type": "code",
      "metadata": {
        "id": "E3N33SvWq4-a",
        "colab_type": "code",
        "colab": {}
      },
      "source": [
        "def accuracy(model, loader):\n",
        "    \n",
        "    metric = mx.metric.Accuracy()\n",
        "    \n",
        "    for batch, labels in loader:\n",
        "        batch = batch.as_in_context(ctx)\n",
        "        labels = labels.as_in_context(ctx)\n",
        "        \n",
        "        class_probabilities = nd.softmax(model(batch), axis=1)\n",
        "        \n",
        "        predictions = nd.argmax(class_probabilities, axis=1)\n",
        "        \n",
        "        metric.update(labels, predictions)\n",
        "        \n",
        "    _, accuracy_metric = metric.get()\n",
        "    \n",
        "    return accuracy_metric"
      ],
      "execution_count": 0,
      "outputs": []
    },
    {
      "cell_type": "code",
      "metadata": {
        "id": "wyfGXxdTvBdT",
        "colab_type": "code",
        "colab": {}
      },
      "source": [
        "loss_function = gluon.loss.SoftmaxCrossEntropyLoss()\n",
        "\n",
        "num_epochs = 16\n",
        "\n",
        "train_losses = []\n",
        "valid_losses = []\n",
        "\n",
        "train_accuracies = []\n",
        "valid_accuracies = []\n",
        "\n",
        "epochs = range(1, num_epochs + 1)\n",
        "\n",
        "for epoch in epochs:\n",
        "    \n",
        "    train_loss = train(convnet, loss_function, trainer)\n",
        "    train_losses.append(train_loss)\n",
        "    train_accuracy = accuracy(convnet, train_loader)\n",
        "    train_accuracies.append(train_accuracy)\n",
        "    \n",
        "    valid_loss = validate(convnet, loss_function, trainer)\n",
        "    valid_losses.append(valid_loss)\n",
        "    valid_accuracy = accuracy(convnet, valid_loader)\n",
        "    valid_accuracies.append(valid_accuracy)\n",
        "    \n",
        "    print('Epoch {}/{}'.format(epoch, num_epochs))"
      ],
      "execution_count": 0,
      "outputs": []
    },
    {
      "cell_type": "code",
      "metadata": {
        "id": "8QYmlStfKyC9",
        "colab_type": "code",
        "outputId": "bd5b371c-0bf1-49ff-c2ea-ef787d7658c9",
        "colab": {
          "base_uri": "https://localhost:8080/",
          "height": 545
        }
      },
      "source": [
        "import matplotlib.pyplot as plt\n",
        "\n",
        "plt.plot(epochs, train_accuracies, 'g', label='Training accuracy')\n",
        "plt.plot(epochs, valid_accuracies, 'r', label='Validation accuracy')\n",
        "plt.title('Training and validation accuracy')\n",
        "plt.legend()\n",
        "\n",
        "plt.figure()\n",
        "\n",
        "plt.plot(epochs, train_losses, 'g', label='Training loss')\n",
        "plt.plot(epochs, valid_losses, 'r', label='Validation loss')\n",
        "plt.title('Training and validation loss')\n",
        "plt.legend()\n",
        "\n",
        "plt.show()"
      ],
      "execution_count": 50,
      "outputs": [
        {
          "output_type": "display_data",
          "data": {
            "image/png": "[encoded data removed]",
            "text/plain": [
              "<Figure size 432x288 with 1 Axes>"
            ]
          },
          "metadata": {
            "tags": []
          }
        },
        {
          "output_type": "display_data",
          "data": {
            "image/png": "[encoded data removed]",
            "text/plain": [
              "<Figure size 432x288 with 1 Axes>"
            ]
          },
          "metadata": {
            "tags": []
          }
        }
      ]
    },
    {
      "cell_type": "code",
      "metadata": {
        "id": "tjEEePYC1vrR",
        "colab_type": "code",
        "colab": {
          "base_uri": "https://localhost:8080/",
          "height": 51
        },
        "outputId": "4bcc39cd-72d6-4a5d-dc07-cfebf86f9305"
      },
      "source": [
        "training_accuracy = 100 * accuracy(convnet, train_loader)\n",
        "validation_accuracy = 100 * accuracy(convnet, valid_loader)\n",
        "\n",
        "print('Training accuracy: {:5.2f}%'.format(training_accuracy))\n",
        "print('Validation accuracy: {:5.2f}%'.format(validation_accuracy))"
      ],
      "execution_count": 54,
      "outputs": [
        {
          "output_type": "stream",
          "text": [
            "Training accuracy: 80.08%\n",
            "Validation accuracy: 63.19%\n"
          ],
          "name": "stdout"
        }
      ]
    }
  ]
}