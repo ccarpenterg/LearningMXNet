{
  "nbformat": 4,
  "nbformat_minor": 0,
  "metadata": {
    "colab": {
      "name": "06_pretrained_convnets_and_transfer_learning.ipynb",
      "provenance": [],
      "include_colab_link": true
    },
    "kernelspec": {
      "name": "python3",
      "display_name": "Python 3"
    },
    "accelerator": "GPU"
  },
  "cells": [
    {
      "cell_type": "markdown",
      "metadata": {
        "id": "view-in-github",
        "colab_type": "text"
      },
      "source": [
        "<a href=\"https://colab.research.google.com/github/ccarpenterg/LearningMXNet/blob/master/06_pretrained_convnets_and_transfer_learning.ipynb\" target=\"_parent\"><img src=\"https://colab.research.google.com/assets/colab-badge.svg\" alt=\"Open In Colab\"/></a>"
      ]
    },
    {
      "cell_type": "markdown",
      "metadata": {
        "id": "JXImQON5QZQu",
        "colab_type": "text"
      },
      "source": [
        "## Pretrained Convolutional Neural Networks\n",
        "\n",
        "Before trying to tackle the problem of overfitting, we will explore the concept of a pre-trained convnet. So this is where the world of AI gets really exciting. We not only can use a great ML framework like MXNet, but we also can download a pretrained convolutional neural network, that has been trained by a company like Google or by a research institution like Stanford.\n",
        "\n",
        "That means that years and years of research are **available** to everybody, provided they have the technical skills to use these pretrained convolutional neural networks."
      ]
    },
    {
      "cell_type": "code",
      "metadata": {
        "id": "XyvV5cXcfO1R",
        "colab_type": "code",
        "colab": {}
      },
      "source": [
        "!nvcc --version"
      ],
      "execution_count": 0,
      "outputs": []
    },
    {
      "cell_type": "code",
      "metadata": {
        "id": "glg8jzhHsFwf",
        "colab_type": "code",
        "colab": {}
      },
      "source": [
        "!pip install mxnet-cu100 gluoncv"
      ],
      "execution_count": 0,
      "outputs": []
    },
    {
      "cell_type": "code",
      "metadata": {
        "id": "dteSOrrnsLcm",
        "colab_type": "code",
        "outputId": "0c296715-777a-4eff-a69e-9bc568635a92",
        "colab": {
          "base_uri": "https://localhost:8080/",
          "height": 34
        }
      },
      "source": [
        "import mxnet as mx\n",
        "from mxnet import nd, gluon, autograd\n",
        "from mxnet.gluon import nn\n",
        "\n",
        "from gluoncv.model_zoo import get_model\n",
        "\n",
        "import warnings\n",
        "\n",
        "print(mx.__version__)"
      ],
      "execution_count": 0,
      "outputs": [
        {
          "output_type": "stream",
          "text": [
            "1.5.1\n"
          ],
          "name": "stdout"
        }
      ]
    },
    {
      "cell_type": "markdown",
      "metadata": {
        "id": "tAMV7Rj7QxLW",
        "colab_type": "text"
      },
      "source": [
        "## Residual Neural Network (ResNet)"
      ]
    },
    {
      "cell_type": "code",
      "metadata": {
        "id": "xJdds5pSvsdc",
        "colab_type": "code",
        "colab": {}
      },
      "source": [
        "model_name = 'ResNet18_v1'\n",
        "model = get_model(model_name, pretrained=True)"
      ],
      "execution_count": 0,
      "outputs": []
    },
    {
      "cell_type": "code",
      "metadata": {
        "id": "EdTPQj9mv-Dz",
        "colab_type": "code",
        "outputId": "867b6038-8adb-4a4f-8deb-152cc0ad0537",
        "colab": {
          "base_uri": "https://localhost:8080/",
          "height": 1000
        }
      },
      "source": [
        "ctx = mx.gpu(0) if mx.context.num_gpus() > 0 else mx.cpu(0)\n",
        "\n",
        "with warnings.catch_warnings():\n",
        "    warnings.simplefilter(\"ignore\")\n",
        "\n",
        "    model.initialize(mx.init.Xavier(), ctx=ctx)\n",
        "    model.collect_params().reset_ctx(ctx)\n",
        "\n",
        "    model.summary(nd.zeros((1, 3, 224, 224), ctx=ctx))"
      ],
      "execution_count": 0,
      "outputs": [
        {
          "output_type": "stream",
          "text": [
            "--------------------------------------------------------------------------------\n",
            "        Layer (type)                                Output Shape         Param #\n",
            "================================================================================\n",
            "               Input                            (1, 3, 224, 224)               0\n",
            "            Conv2D-1                           (1, 64, 112, 112)            9408\n",
            "         BatchNorm-2                           (1, 64, 112, 112)             256\n",
            "        Activation-3                           (1, 64, 112, 112)               0\n",
            "         MaxPool2D-4                             (1, 64, 56, 56)               0\n",
            "            Conv2D-5                             (1, 64, 56, 56)           36864\n",
            "         BatchNorm-6                             (1, 64, 56, 56)             256\n",
            "        Activation-7                             (1, 64, 56, 56)               0\n",
            "            Conv2D-8                             (1, 64, 56, 56)           36864\n",
            "         BatchNorm-9                             (1, 64, 56, 56)             256\n",
            "     BasicBlockV1-10                             (1, 64, 56, 56)               0\n",
            "           Conv2D-11                             (1, 64, 56, 56)           36864\n",
            "        BatchNorm-12                             (1, 64, 56, 56)             256\n",
            "       Activation-13                             (1, 64, 56, 56)               0\n",
            "           Conv2D-14                             (1, 64, 56, 56)           36864\n",
            "        BatchNorm-15                             (1, 64, 56, 56)             256\n",
            "     BasicBlockV1-16                             (1, 64, 56, 56)               0\n",
            "           Conv2D-17                            (1, 128, 28, 28)           73728\n",
            "        BatchNorm-18                            (1, 128, 28, 28)             512\n",
            "       Activation-19                            (1, 128, 28, 28)               0\n",
            "           Conv2D-20                            (1, 128, 28, 28)          147456\n",
            "        BatchNorm-21                            (1, 128, 28, 28)             512\n",
            "           Conv2D-22                            (1, 128, 28, 28)            8192\n",
            "        BatchNorm-23                            (1, 128, 28, 28)             512\n",
            "     BasicBlockV1-24                            (1, 128, 28, 28)               0\n",
            "           Conv2D-25                            (1, 128, 28, 28)          147456\n",
            "        BatchNorm-26                            (1, 128, 28, 28)             512\n",
            "       Activation-27                            (1, 128, 28, 28)               0\n",
            "           Conv2D-28                            (1, 128, 28, 28)          147456\n",
            "        BatchNorm-29                            (1, 128, 28, 28)             512\n",
            "     BasicBlockV1-30                            (1, 128, 28, 28)               0\n",
            "           Conv2D-31                            (1, 256, 14, 14)          294912\n",
            "        BatchNorm-32                            (1, 256, 14, 14)            1024\n",
            "       Activation-33                            (1, 256, 14, 14)               0\n",
            "           Conv2D-34                            (1, 256, 14, 14)          589824\n",
            "        BatchNorm-35                            (1, 256, 14, 14)            1024\n",
            "           Conv2D-36                            (1, 256, 14, 14)           32768\n",
            "        BatchNorm-37                            (1, 256, 14, 14)            1024\n",
            "     BasicBlockV1-38                            (1, 256, 14, 14)               0\n",
            "           Conv2D-39                            (1, 256, 14, 14)          589824\n",
            "        BatchNorm-40                            (1, 256, 14, 14)            1024\n",
            "       Activation-41                            (1, 256, 14, 14)               0\n",
            "           Conv2D-42                            (1, 256, 14, 14)          589824\n",
            "        BatchNorm-43                            (1, 256, 14, 14)            1024\n",
            "     BasicBlockV1-44                            (1, 256, 14, 14)               0\n",
            "           Conv2D-45                              (1, 512, 7, 7)         1179648\n",
            "        BatchNorm-46                              (1, 512, 7, 7)            2048\n",
            "       Activation-47                              (1, 512, 7, 7)               0\n",
            "           Conv2D-48                              (1, 512, 7, 7)         2359296\n",
            "        BatchNorm-49                              (1, 512, 7, 7)            2048\n",
            "           Conv2D-50                              (1, 512, 7, 7)          131072\n",
            "        BatchNorm-51                              (1, 512, 7, 7)            2048\n",
            "     BasicBlockV1-52                              (1, 512, 7, 7)               0\n",
            "           Conv2D-53                              (1, 512, 7, 7)         2359296\n",
            "        BatchNorm-54                              (1, 512, 7, 7)            2048\n",
            "       Activation-55                              (1, 512, 7, 7)               0\n",
            "           Conv2D-56                              (1, 512, 7, 7)         2359296\n",
            "        BatchNorm-57                              (1, 512, 7, 7)            2048\n",
            "     BasicBlockV1-58                              (1, 512, 7, 7)               0\n",
            "  GlobalAvgPool2D-59                              (1, 512, 1, 1)               0\n",
            "            Dense-60                                   (1, 1000)          513000\n",
            "         ResNetV1-61                                   (1, 1000)               0\n",
            "================================================================================\n",
            "Parameters in forward computation graph, duplicate included\n",
            "   Total params: 11699112\n",
            "   Trainable params: 11689512\n",
            "   Non-trainable params: 9600\n",
            "Shared params in forward computation graph: 0\n",
            "Unique parameters in model: 11699112\n",
            "--------------------------------------------------------------------------------\n"
          ],
          "name": "stdout"
        }
      ]
    }
  ]
}