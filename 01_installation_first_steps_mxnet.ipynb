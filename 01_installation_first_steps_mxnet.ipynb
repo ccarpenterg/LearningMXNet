{
  "nbformat": 4,
  "nbformat_minor": 0,
  "metadata": {
    "colab": {
      "name": "01_installation_first_steps_mxnet.ipynb",
      "version": "0.3.2",
      "provenance": [],
      "toc_visible": true,
      "include_colab_link": true
    },
    "kernelspec": {
      "name": "python3",
      "display_name": "Python 3"
    },
    "accelerator": "GPU"
  },
  "cells": [
    {
      "cell_type": "markdown",
      "metadata": {
        "id": "view-in-github",
        "colab_type": "text"
      },
      "source": [
        "<a href=\"https://colab.research.google.com/github/ccarpenterg/LearningMXNet/blob/master/01_installation_first_steps_mxnet.ipynb\" target=\"_parent\"><img src=\"https://colab.research.google.com/assets/colab-badge.svg\" alt=\"Open In Colab\"/></a>"
      ]
    },
    {
      "cell_type": "markdown",
      "metadata": {
        "id": "RDFhRTyZ5qXX",
        "colab_type": "text"
      },
      "source": [
        "## Installation and First Steps with MXNet\n",
        "\n",
        "MXNet is not pre-installed in the Colab notebooks, but before installing it we need to figure out which version of CUDA Colab is running on the background. For this we just run a simple command:"
      ]
    },
    {
      "cell_type": "code",
      "metadata": {
        "id": "Ai9ZkQpy52wV",
        "colab_type": "code",
        "outputId": "813d543b-9fd9-4bfd-dcb3-3da3fe924736",
        "colab": {
          "base_uri": "https://localhost:8080/",
          "height": 85
        }
      },
      "source": [
        "!nvcc --version"
      ],
      "execution_count": 0,
      "outputs": [
        {
          "output_type": "stream",
          "text": [
            "nvcc: NVIDIA (R) Cuda compiler driver\n",
            "Copyright (c) 2005-2018 NVIDIA Corporation\n",
            "Built on Sat_Aug_25_21:08:01_CDT_2018\n",
            "Cuda compilation tools, release 10.0, V10.0.130\n"
          ],
          "name": "stdout"
        }
      ]
    },
    {
      "cell_type": "markdown",
      "metadata": {
        "id": "SS29MdQh6OoC",
        "colab_type": "text"
      },
      "source": [
        "## CUDA and MXNet\n",
        "\n",
        "Now that we now what version of CUDA the Colab notebooks is using we have to match it with the MXNet's pip package. In this case, Colab is using CUDA 10.0 so we add 'cu100' to the name of the package:"
      ]
    },
    {
      "cell_type": "code",
      "metadata": {
        "id": "7vJl11pDg4em",
        "colab_type": "code",
        "colab": {}
      },
      "source": [
        "!pip install mxnet-cu100"
      ],
      "execution_count": 0,
      "outputs": []
    },
    {
      "cell_type": "markdown",
      "metadata": {
        "id": "_uGamsCNNTvv",
        "colab_type": "text"
      },
      "source": [
        "That was really straightforward. Now let's check the version of MXNet we've just installed:"
      ]
    },
    {
      "cell_type": "code",
      "metadata": {
        "id": "XfYoOVenhKox",
        "colab_type": "code",
        "outputId": "aed8e3dc-74fb-4ae8-f569-0f3b16115c3f",
        "colab": {
          "base_uri": "https://localhost:8080/",
          "height": 34
        }
      },
      "source": [
        "import mxnet as mx\n",
        "\n",
        "print(mx.__version__)"
      ],
      "execution_count": 0,
      "outputs": [
        {
          "output_type": "stream",
          "text": [
            "1.5.0\n"
          ],
          "name": "stdout"
        }
      ]
    }
  ]
}