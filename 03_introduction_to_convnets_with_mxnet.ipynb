{
  "nbformat": 4,
  "nbformat_minor": 0,
  "metadata": {
    "colab": {
      "name": "03_introduction_to_convnets_with_mxnet.ipynb",
      "version": "0.3.2",
      "provenance": [],
      "include_colab_link": true
    },
    "kernelspec": {
      "name": "python3",
      "display_name": "Python 3"
    }
  },
  "cells": [
    {
      "cell_type": "markdown",
      "metadata": {
        "id": "view-in-github",
        "colab_type": "text"
      },
      "source": [
        "<a href=\"https://colab.research.google.com/github/ccarpenterg/LearningMXNet/blob/master/03_introduction_to_convnets_with_mxnet.ipynb\" target=\"_parent\"><img src=\"https://colab.research.google.com/assets/colab-badge.svg\" alt=\"Open In Colab\"/></a>"
      ]
    },
    {
      "cell_type": "markdown",
      "metadata": {
        "id": "Bx2LMiaPLoYO",
        "colab_type": "text"
      },
      "source": [
        "## Introduction to Convolutional Neural Network with MXNet"
      ]
    },
    {
      "cell_type": "code",
      "metadata": {
        "id": "oBaWG-3uKPh5",
        "colab_type": "code",
        "colab": {}
      },
      "source": [
        "!nvcc --version"
      ],
      "execution_count": 0,
      "outputs": []
    },
    {
      "cell_type": "code",
      "metadata": {
        "id": "f5MHnLRfNJnP",
        "colab_type": "code",
        "colab": {}
      },
      "source": [
        "!pip install mxnet-cu100"
      ],
      "execution_count": 0,
      "outputs": []
    },
    {
      "cell_type": "code",
      "metadata": {
        "id": "x3xK19PbOnk9",
        "colab_type": "code",
        "colab": {}
      },
      "source": [
        "from __future__ import print_function\n",
        "\n",
        "import mxnet as mx\n",
        "from mxnet import nd, gluon, autograd\n",
        "from mxnet.gluon import nn\n",
        "\n",
        "\n",
        "print(mx.__version__)"
      ],
      "execution_count": 0,
      "outputs": []
    },
    {
      "cell_type": "markdown",
      "metadata": {
        "id": "57Yk4yHuO7Pr",
        "colab_type": "text"
      },
      "source": [
        "### MNIST Dataset"
      ]
    },
    {
      "cell_type": "code",
      "metadata": {
        "id": "FfYNedeoO-si",
        "colab_type": "code",
        "colab": {}
      },
      "source": [
        "def data_convention_normalization(data):\n",
        "    return nd.moveaxis(data, 2, 0).astype('float32') / 255\n",
        "\n",
        "train_data = gluon.data.vision.MNIST(train=True).transform_first(data_convention_normalization)\n",
        "valid_data = gluon.data.vision.MNIST(train=False).transform_first(data_convention_normalization)"
      ],
      "execution_count": 0,
      "outputs": []
    },
    {
      "cell_type": "code",
      "metadata": {
        "id": "pKKsMQYbQknB",
        "colab_type": "code",
        "colab": {}
      },
      "source": [
        "train_loader = gluon.data.DataLoader(train_data, shuffle=True, batch_size=64)\n",
        "valid_loader = gluon.data.DataLoader(valid_data, shuffle=False, batch_size=64)"
      ],
      "execution_count": 0,
      "outputs": []
    }
  ]
}