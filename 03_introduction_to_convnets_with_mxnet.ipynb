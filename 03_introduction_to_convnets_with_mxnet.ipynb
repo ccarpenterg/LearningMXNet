{
  "nbformat": 4,
  "nbformat_minor": 0,
  "metadata": {
    "colab": {
      "name": "03_introduction_to_convnets_with_mxnet.ipynb",
      "provenance": [],
      "toc_visible": true,
      "include_colab_link": true
    },
    "kernelspec": {
      "name": "python3",
      "display_name": "Python 3"
    },
    "accelerator": "GPU"
  },
  "cells": [
    {
      "cell_type": "markdown",
      "metadata": {
        "id": "view-in-github",
        "colab_type": "text"
      },
      "source": [
        "<a href=\"https://colab.research.google.com/github/ccarpenterg/LearningMXNet/blob/master/03_introduction_to_convnets_with_mxnet.ipynb\" target=\"_parent\"><img src=\"https://colab.research.google.com/assets/colab-badge.svg\" alt=\"Open In Colab\"/></a>"
      ]
    },
    {
      "cell_type": "markdown",
      "metadata": {
        "id": "Bx2LMiaPLoYO",
        "colab_type": "text"
      },
      "source": [
        "## Introduction to Convolutional Neural Networks with MXNet\n",
        "\n",
        "We previously trained an artificial neural network on the MNIST dataset, now we'll introduce the convolutional neural networks (CNNs or Convnets for short). CNNs are part of the world of deep learning."
      ]
    },
    {
      "cell_type": "code",
      "metadata": {
        "id": "oBaWG-3uKPh5",
        "colab_type": "code",
        "outputId": "21bc31b4-5489-4f7b-831c-5e2e971b9116",
        "colab": {
          "base_uri": "https://localhost:8080/",
          "height": 85
        }
      },
      "source": [
        "!nvcc --version"
      ],
      "execution_count": 12,
      "outputs": [
        {
          "output_type": "stream",
          "text": [
            "nvcc: NVIDIA (R) Cuda compiler driver\n",
            "Copyright (c) 2005-2018 NVIDIA Corporation\n",
            "Built on Sat_Aug_25_21:08:01_CDT_2018\n",
            "Cuda compilation tools, release 10.0, V10.0.130\n"
          ],
          "name": "stdout"
        }
      ]
    },
    {
      "cell_type": "code",
      "metadata": {
        "id": "f5MHnLRfNJnP",
        "colab_type": "code",
        "colab": {}
      },
      "source": [
        "!pip install mxnet-cu100"
      ],
      "execution_count": 0,
      "outputs": []
    },
    {
      "cell_type": "code",
      "metadata": {
        "id": "x3xK19PbOnk9",
        "colab_type": "code",
        "outputId": "0fd0925d-35fb-4ed0-85a6-46ae74f762ce",
        "colab": {
          "base_uri": "https://localhost:8080/",
          "height": 34
        }
      },
      "source": [
        "from __future__ import print_function\n",
        "\n",
        "import mxnet as mx\n",
        "from mxnet import nd, gluon, autograd\n",
        "from mxnet.gluon import nn\n",
        "\n",
        "import statistics\n",
        "\n",
        "\n",
        "print(mx.__version__)"
      ],
      "execution_count": 14,
      "outputs": [
        {
          "output_type": "stream",
          "text": [
            "1.5.0\n"
          ],
          "name": "stdout"
        }
      ]
    },
    {
      "cell_type": "markdown",
      "metadata": {
        "id": "57Yk4yHuO7Pr",
        "colab_type": "text"
      },
      "source": [
        "### MNIST Dataset"
      ]
    },
    {
      "cell_type": "code",
      "metadata": {
        "id": "FfYNedeoO-si",
        "colab_type": "code",
        "colab": {}
      },
      "source": [
        "def data_convention_normalization(data):\n",
        "    return nd.moveaxis(data, 2, 0).astype('float32') / 255\n",
        "\n",
        "train_data = gluon.data.vision.MNIST(train=True).transform_first(data_convention_normalization)\n",
        "valid_data = gluon.data.vision.MNIST(train=False).transform_first(data_convention_normalization)"
      ],
      "execution_count": 0,
      "outputs": []
    },
    {
      "cell_type": "code",
      "metadata": {
        "id": "pKKsMQYbQknB",
        "colab_type": "code",
        "colab": {}
      },
      "source": [
        "train_loader = gluon.data.DataLoader(train_data, shuffle=True, batch_size=64)\n",
        "valid_loader = gluon.data.DataLoader(valid_data, shuffle=False, batch_size=64)"
      ],
      "execution_count": 0,
      "outputs": []
    },
    {
      "cell_type": "markdown",
      "metadata": {
        "id": "N0FR5If1mqbD",
        "colab_type": "text"
      },
      "source": [
        "### Convolutional Neural Network"
      ]
    },
    {
      "cell_type": "code",
      "metadata": {
        "id": "B9W4BzdsjZeN",
        "colab_type": "code",
        "outputId": "6b829a5c-f613-4a21-96b5-0d87e7780248",
        "colab": {
          "base_uri": "https://localhost:8080/",
          "height": 190
        }
      },
      "source": [
        "convnet = nn.Sequential()\n",
        "\n",
        "convnet.add(nn.Conv2D(channels=32, kernel_size=3, activation='relu'),\n",
        "        nn.MaxPool2D(pool_size=2),\n",
        "        nn.Conv2D(channels=64, kernel_size=3, activation='relu'),\n",
        "        nn.MaxPool2D(pool_size=2),\n",
        "        nn.Conv2D(channels=64, kernel_size=3, activation='relu'),\n",
        "        nn.Dense(64, activation='relu'),\n",
        "        nn.Dense(10))\n",
        "\n",
        "convnet"
      ],
      "execution_count": 17,
      "outputs": [
        {
          "output_type": "execute_result",
          "data": {
            "text/plain": [
              "Sequential(\n",
              "  (0): Conv2D(None -> 32, kernel_size=(3, 3), stride=(1, 1), Activation(relu))\n",
              "  (1): MaxPool2D(size=(2, 2), stride=(2, 2), padding=(0, 0), ceil_mode=False, global_pool=False, pool_type=max, layout=NCHW)\n",
              "  (2): Conv2D(None -> 64, kernel_size=(3, 3), stride=(1, 1), Activation(relu))\n",
              "  (3): MaxPool2D(size=(2, 2), stride=(2, 2), padding=(0, 0), ceil_mode=False, global_pool=False, pool_type=max, layout=NCHW)\n",
              "  (4): Conv2D(None -> 64, kernel_size=(3, 3), stride=(1, 1), Activation(relu))\n",
              "  (5): Dense(None -> 64, Activation(relu))\n",
              "  (6): Dense(None -> 10, linear)\n",
              ")"
            ]
          },
          "metadata": {
            "tags": []
          },
          "execution_count": 17
        }
      ]
    },
    {
      "cell_type": "code",
      "metadata": {
        "id": "iAtEBG72rpY4",
        "colab_type": "code",
        "outputId": "946fec1d-b239-49a5-d002-4666ff6a6e42",
        "colab": {
          "base_uri": "https://localhost:8080/",
          "height": 476
        }
      },
      "source": [
        "ctx = mx.gpu(0) if mx.context.num_gpus() > 0 else mx.cpu(0)\n",
        "convnet.initialize(mx.init.Xavier(), ctx=ctx)\n",
        "convnet.summary(nd.zeros((1, 1, 28, 28), ctx=ctx))"
      ],
      "execution_count": 18,
      "outputs": [
        {
          "output_type": "stream",
          "text": [
            "--------------------------------------------------------------------------------\n",
            "        Layer (type)                                Output Shape         Param #\n",
            "================================================================================\n",
            "               Input                              (1, 1, 28, 28)               0\n",
            "        Activation-1                     <Symbol conv3_relu_fwd>               0\n",
            "        Activation-2                             (1, 32, 26, 26)               0\n",
            "            Conv2D-3                             (1, 32, 26, 26)             320\n",
            "         MaxPool2D-4                             (1, 32, 13, 13)               0\n",
            "        Activation-5                     <Symbol conv4_relu_fwd>               0\n",
            "        Activation-6                             (1, 64, 11, 11)               0\n",
            "            Conv2D-7                             (1, 64, 11, 11)           18496\n",
            "         MaxPool2D-8                               (1, 64, 5, 5)               0\n",
            "        Activation-9                     <Symbol conv5_relu_fwd>               0\n",
            "       Activation-10                               (1, 64, 3, 3)               0\n",
            "           Conv2D-11                               (1, 64, 3, 3)           36928\n",
            "       Activation-12                    <Symbol dense2_relu_fwd>               0\n",
            "       Activation-13                                     (1, 64)               0\n",
            "            Dense-14                                     (1, 64)           36928\n",
            "            Dense-15                                     (1, 10)             650\n",
            "================================================================================\n",
            "Parameters in forward computation graph, duplicate included\n",
            "   Total params: 93322\n",
            "   Trainable params: 93322\n",
            "   Non-trainable params: 0\n",
            "Shared params in forward computation graph: 0\n",
            "Unique parameters in model: 93322\n",
            "--------------------------------------------------------------------------------\n"
          ],
          "name": "stdout"
        }
      ]
    },
    {
      "cell_type": "markdown",
      "metadata": {
        "id": "bzRPKI9ZvzkZ",
        "colab_type": "text"
      },
      "source": [
        "### Trainer: Stochastic Gradient Descent"
      ]
    },
    {
      "cell_type": "code",
      "metadata": {
        "id": "fiMQF9BkskbK",
        "colab_type": "code",
        "colab": {}
      },
      "source": [
        "trainer = gluon.Trainer(\n",
        "    params=convnet.collect_params(),\n",
        "    optimizer='sgd',\n",
        "    optimizer_params={'learning_rate': 0.04},\n",
        ")"
      ],
      "execution_count": 0,
      "outputs": []
    },
    {
      "cell_type": "code",
      "metadata": {
        "id": "X3yVOThn4Knt",
        "colab_type": "code",
        "colab": {}
      },
      "source": [
        "metric = mx.metric.Accuracy()\n",
        "loss_function = gluon.loss.SoftmaxCrossEntropyLoss()"
      ],
      "execution_count": 0,
      "outputs": []
    },
    {
      "cell_type": "markdown",
      "metadata": {
        "id": "aPlElPF0v6Tp",
        "colab_type": "text"
      },
      "source": [
        "### Training the ConvNet"
      ]
    },
    {
      "cell_type": "code",
      "metadata": {
        "id": "ZXCBQB_w47hw",
        "colab_type": "code",
        "outputId": "3af3937c-9a22-41a8-89bc-a7561e86f3be",
        "colab": {
          "base_uri": "https://localhost:8080/",
          "height": 357
        }
      },
      "source": [
        "num_epochs = 10\n",
        "\n",
        "for epoch in range(num_epochs):\n",
        "    \n",
        "    batch_train_loss = []\n",
        "    \n",
        "    for batch, labels in train_loader:\n",
        "        batch = batch.as_in_context(ctx)\n",
        "        labels = labels.as_in_context(ctx)\n",
        "        \n",
        "        with autograd.record():\n",
        "            predictions = convnet(batch)\n",
        "            loss = loss_function(predictions, labels)\n",
        "            \n",
        "        loss.backward()\n",
        "        metric.update(labels, predictions)\n",
        "        \n",
        "        trainer.step(batch_size=batch.shape[0])\n",
        "        \n",
        "        batch_train_loss.append(float(nd.sum(loss).asscalar()))\n",
        "        \n",
        "        name, acc = metric.get()\n",
        "        \n",
        "    batch_loss = statistics.mean(batch_train_loss)\n",
        "    \n",
        "    print('Training Loss on epoch {}: {}'.format(epoch + 1, batch_loss))\n",
        "    print('Accuracy on epoch {}: {}'.format(epoch + 1, acc))\n",
        "    metric.reset()\n",
        "        "
      ],
      "execution_count": 21,
      "outputs": [
        {
          "output_type": "stream",
          "text": [
            "Training Loss on epoch 1: 27.399861447084177\n",
            "Accuracy on epoch 1: 0.8661833333333333\n",
            "Training Loss on epoch 2: 6.397593087034185\n",
            "Accuracy on epoch 2: 0.9691833333333333\n",
            "Training Loss on epoch 3: 4.4376949572296285\n",
            "Accuracy on epoch 3: 0.9781666666666666\n",
            "Training Loss on epoch 4: 3.5358083329316394\n",
            "Accuracy on epoch 4: 0.9828833333333333\n",
            "Training Loss on epoch 5: 2.970718521894867\n",
            "Accuracy on epoch 5: 0.9859333333333333\n",
            "Training Loss on epoch 6: 2.568004942302511\n",
            "Accuracy on epoch 6: 0.9875833333333334\n",
            "Training Loss on epoch 7: 2.2126066949464747\n",
            "Accuracy on epoch 7: 0.9897666666666667\n",
            "Training Loss on epoch 8: 1.9390164398268532\n",
            "Accuracy on epoch 8: 0.9905833333333334\n",
            "Training Loss on epoch 9: 1.7718374631774705\n",
            "Accuracy on epoch 9: 0.99145\n",
            "Training Loss on epoch 10: 1.6014205525243985\n",
            "Accuracy on epoch 10: 0.9917166666666667\n"
          ],
          "name": "stdout"
        }
      ]
    },
    {
      "cell_type": "code",
      "metadata": {
        "id": "ecl9jwsINQwn",
        "colab_type": "code",
        "outputId": "510ed4a3-2243-4c2c-802b-c0c5cb008ba0",
        "colab": {
          "base_uri": "https://localhost:8080/",
          "height": 34
        }
      },
      "source": [
        "metric = mx.metric.Accuracy()\n",
        "\n",
        "for batch, labels in valid_loader:\n",
        "    batch = batch.as_in_context(ctx)\n",
        "    labels = labels.as_in_context(ctx)\n",
        "    metric.update(labels, convnet(batch))\n",
        "    \n",
        "print('Validation: {} = {}'.format(*metric.get()))"
      ],
      "execution_count": 22,
      "outputs": [
        {
          "output_type": "stream",
          "text": [
            "Validation: accuracy = 0.9868\n"
          ],
          "name": "stdout"
        }
      ]
    }
  ]
}